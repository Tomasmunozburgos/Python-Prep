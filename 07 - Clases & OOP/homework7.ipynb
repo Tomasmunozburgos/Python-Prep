{
 "cells": [
  {
   "attachments": {},
   "cell_type": "markdown",
   "metadata": {},
   "source": [
    "1) Crear la clase vehículo que contenga los atributos:<br>\n",
    "Color<br>\n",
    "Si es moto, auto, camioneta ó camión<br>\n",
    "Cilindrada del motor\n"
   ]
  },
  {
   "cell_type": "code",
   "execution_count": 4,
   "metadata": {},
   "outputs": [],
   "source": [
    "class vehiculo:\n",
    "    def __init__(self, color, tipo, cilindrada):\n",
    "        self.color = color\n",
    "        self.tipo = tipo\n",
    "        self.cilindrada = cilindrada\n",
    "        "
   ]
  },
  {
   "attachments": {},
   "cell_type": "markdown",
   "metadata": {},
   "source": [
    "2) A la clase Vehiculo creada en el punto 1, agregar los siguientes métodos:<br>\n",
    "Acelerar<br>\n",
    "Frenar<br>\n",
    "Doblar<br>"
   ]
  },
  {
   "cell_type": "code",
   "execution_count": 5,
   "metadata": {},
   "outputs": [],
   "source": [
    "class vehiculo:\n",
    "    def __init__(self, color, tipo, cilindrada):\n",
    "        self.color = color\n",
    "        self.tipo = tipo\n",
    "        self.cilindrada = cilindrada\n",
    "        self.velocidad = 0\n",
    "        self.direccion = 0\n",
    "\n",
    "    \n",
    "    def acelerar(self, vel):\n",
    "        self.velocidad += vel\n",
    "\n",
    "    def frenar(self, vel):\n",
    "        self.velocidad -= vel\n",
    "\n",
    "    def doblar(self, grados):\n",
    "        self.direccion += grados\n"
   ]
  },
  {
   "attachments": {},
   "cell_type": "markdown",
   "metadata": {},
   "source": [
    "3) Instanciar 3 objetos de la clase vehículo y ejecutar sus métodos, probar luego el resultado"
   ]
  },
  {
   "cell_type": "code",
   "execution_count": 6,
   "metadata": {},
   "outputs": [],
   "source": [
    "v1 = vehiculo('rojo', 'auto', 2)\n",
    "v2 = vehiculo('verde', 'camioneta', 5.1)\n",
    "v3 = vehiculo('negro', 'moto', 1)"
   ]
  },
  {
   "cell_type": "code",
   "execution_count": 8,
   "metadata": {},
   "outputs": [],
   "source": [
    "v1.acelerar(30)\n",
    "v2.acelerar(20)\n",
    "v3.acelerar(50)\n",
    "v3.doblar(10)\n"
   ]
  },
  {
   "attachments": {},
   "cell_type": "markdown",
   "metadata": {},
   "source": [
    "4) Agregar a la clase Vehiculo, un método que muestre su estado, es decir, a que velocidad se encuentra y su dirección. Y otro método que muestre color, tipo y cilindrada"
   ]
  },
  {
   "cell_type": "code",
   "execution_count": 11,
   "metadata": {},
   "outputs": [
    {
     "name": "stdout",
     "output_type": "stream",
     "text": [
      "Vehículo: moto , de color azul con cilindrada de 2.1 litros.\n"
     ]
    }
   ],
   "source": [
    "class vehiculo:\n",
    "    def __init__(self, color, tipo, cilindrada):\n",
    "        self.color = color\n",
    "        self.tipo = tipo\n",
    "        self.cilindrada = cilindrada\n",
    "        self.velocidad = 0\n",
    "        self.direccion = 0\n",
    "\n",
    "    \n",
    "    def acelerar(self, vel):\n",
    "        self.velocidad += vel\n",
    "\n",
    "    def frenar(self, vel):\n",
    "        self.velocidad -= vel\n",
    "\n",
    "    def doblar(self, grados):\n",
    "        self.direccion += grados\n",
    "\n",
    "    def detalle(self):\n",
    "        print(\"Vehículo:\", self.tipo, \", de color\", self.color, \"con cilindrada de\", self.cilindrada, 'litros.')\n",
    "\n",
    "v4 = vehiculo('azul', 'moto', 2.1)\n",
    "v4.detalle()"
   ]
  },
  {
   "attachments": {},
   "cell_type": "markdown",
   "metadata": {},
   "source": [
    "5) Crear una clase que permita utilizar las funciones creadas en la práctica del módulo 6<br>\n",
    "Verificar Primo<br>\n",
    "Valor modal<br>\n",
    "Conversión grados<br>\n",
    "Factorial<br>"
   ]
  },
  {
   "cell_type": "code",
   "execution_count": 10,
   "metadata": {},
   "outputs": [],
   "source": [
    "class herramientas:\n",
    "    def __init__(self) -> None:\n",
    "        pass\n",
    "\n",
    "    def verifica_primo(self, nro):\n",
    "        es_primo = True\n",
    "        for i in range(2, nro):\n",
    "            if nro % i == 0:\n",
    "                es_primo = False\n",
    "                break\n",
    "        return es_primo\n",
    "\n",
    "    def valor_modal(self, lista, mayor):\n",
    "        lista_unicos = []\n",
    "        lista_repeticiones = []\n",
    "        if (len(lista) == 0):\n",
    "            return None\n",
    "        if (mayor):\n",
    "            lista.sort(reverse = True)\n",
    "        else:\n",
    "            lista.sort()\n",
    "        for elemento in lista:\n",
    "            if elemento in lista_unicos:\n",
    "                i = lista_unicos.index(elemento)\n",
    "                lista_repeticiones[i] += 1\n",
    "            else:\n",
    "                lista_unicos.append(elemento)\n",
    "                lista_repeticiones.append(1)\n",
    "        moda = lista_unicos[0]\n",
    "        maximo = lista_repeticiones[0]\n",
    "        for i, elemento in enumerate(lista_unicos):\n",
    "            if lista_repeticiones[i] > maximo:\n",
    "                moda = lista_unicos[i]\n",
    "        return moda, maximo\n",
    "\n",
    "    def conversion_grados(self, valor, origen, destino):\n",
    "        valor_destino = None\n",
    "        if (origen == 'celsius'):\n",
    "            if (destino == 'celsius'):\n",
    "                valor_destino = valor\n",
    "            elif (destino == 'farenheit'):\n",
    "                valor_destino = (valor * 9 / 5) + 32\n",
    "            elif (destino == 'kelvin'):\n",
    "                valor_destino = valor + 273.15\n",
    "            else:\n",
    "                print('Parámetro de Destino incorrecto')\n",
    "        elif (origen == 'farenheit'):\n",
    "                if (destino == 'celsius'):\n",
    "                    valor_destino = (valor - 32) * 5 / 9\n",
    "                elif (destino == 'farenheit'):\n",
    "                    valor_destino = valor\n",
    "                elif (destino == 'kelvin'):\n",
    "                    valor_destino = ((valor - 32) * 5 / 9) + 273.15\n",
    "                else:\n",
    "                    print('Parámetro de Destino incorrecto')\n",
    "        elif (origen == 'kelvin'):\n",
    "                if (destino == 'celsius'):\n",
    "                    valor_destino = valor - 273.15\n",
    "                elif (destino == 'farenheit'):\n",
    "                    valor_destino = ((valor - 273.15) * 9 / 5) + 32\n",
    "                elif (destino == 'kelvin'):\n",
    "                    valor_destino = valor\n",
    "                else:\n",
    "                    print('Parámetro de Destino incorrecto')\n",
    "        else:\n",
    "            print('Parámetro de Origen incorrecto')\n",
    "        return valor_destino    \n",
    "    \n",
    "    def factorial(self, x):\n",
    "        if (type(x) != int):\n",
    "            return None\n",
    "        elif (x < 0):\n",
    "            return None\n",
    "        elif (x > 1):\n",
    "            x = x * self.factorial(x-1)\n",
    "        return x    \n"
   ]
  },
  {
   "cell_type": "code",
   "execution_count": 11,
   "metadata": {},
   "outputs": [],
   "source": [
    "h = herramientas()"
   ]
  },
  {
   "attachments": {},
   "cell_type": "markdown",
   "metadata": {},
   "source": [
    "6) Probar las funciones incorporadas en la clase del punto 5"
   ]
  },
  {
   "cell_type": "code",
   "execution_count": 13,
   "metadata": {},
   "outputs": [
    {
     "name": "stdout",
     "output_type": "stream",
     "text": [
      "True\n"
     ]
    }
   ],
   "source": [
    "print(h.verifica_primo(3))\n"
   ]
  },
  {
   "cell_type": "code",
   "execution_count": 15,
   "metadata": {},
   "outputs": [
    {
     "data": {
      "text/plain": [
       "(8, 2)"
      ]
     },
     "execution_count": 15,
     "metadata": {},
     "output_type": "execute_result"
    }
   ],
   "source": [
    "lista = [1,2,3,3,4,5,6,7,8,0,8]\n",
    "h.valor_modal(lista, True)"
   ]
  },
  {
   "cell_type": "code",
   "execution_count": 17,
   "metadata": {},
   "outputs": [
    {
     "data": {
      "text/plain": [
       "37.4"
      ]
     },
     "execution_count": 17,
     "metadata": {},
     "output_type": "execute_result"
    }
   ],
   "source": [
    "h.conversion_grados(3, 'celsius', 'farenheit')"
   ]
  },
  {
   "cell_type": "code",
   "execution_count": 18,
   "metadata": {},
   "outputs": [
    {
     "data": {
      "text/plain": [
       "120"
      ]
     },
     "execution_count": 18,
     "metadata": {},
     "output_type": "execute_result"
    }
   ],
   "source": [
    "h.factorial(5)"
   ]
  },
  {
   "attachments": {},
   "cell_type": "markdown",
   "metadata": {},
   "source": [
    "7) Es necesario que la clase creada en el punto 5 contenga una lista, sobre la cual se aplquen las funciones incorporadas"
   ]
  },
  {
   "cell_type": "code",
   "execution_count": 26,
   "metadata": {},
   "outputs": [],
   "source": [
    "class herramientas:\n",
    "    def __init__(self, lista_numeros):\n",
    "        self.lista = lista_numeros\n",
    "\n",
    "    def verifica_primo(self):\n",
    "        for i in self.lista:\n",
    "            if (self.__verifica_primo(i)):\n",
    "                print(\"Elemento\", i, \"si es un numero primo\")\n",
    "            else:\n",
    "                print(\"Elemento\", i, \"no es un numero primo\")\n",
    "\n",
    "    def conversion_grados(self, origen, destino):\n",
    "        for i in self.lista:\n",
    "            print(i, \"grados\", origen, \"son\", self.__conversion_grados(i, origen, destino), \"grados\", destino)            \n",
    "\n",
    "    def factorial(self, x):\n",
    "        for i in self.lista:\n",
    "            print(\"el factorial de \", i, \"es\", self.__factorial(i))\n",
    "\n",
    "    def verifica_primo(self, nro):\n",
    "        es_primo = True\n",
    "        for i in range(2, nro):\n",
    "            if nro % i == 0:\n",
    "                es_primo = False\n",
    "                break\n",
    "        return es_primo\n",
    "\n",
    "    def valor_modal(self, lista, mayor):\n",
    "        lista_unicos = []\n",
    "        lista_repeticiones = []\n",
    "        if (len(lista) == 0):\n",
    "            return None\n",
    "        if (mayor):\n",
    "            lista.sort(reverse = True)\n",
    "        else:\n",
    "            lista.sort()\n",
    "        for elemento in lista:\n",
    "            if elemento in lista_unicos:\n",
    "                i = lista_unicos.index(elemento)\n",
    "                lista_repeticiones[i] += 1\n",
    "            else:\n",
    "                lista_unicos.append(elemento)\n",
    "                lista_repeticiones.append(1)\n",
    "        moda = lista_unicos[0]\n",
    "        maximo = lista_repeticiones[0]\n",
    "        for i, elemento in enumerate(lista_unicos):\n",
    "            if lista_repeticiones[i] > maximo:\n",
    "                moda = lista_unicos[i]\n",
    "        return moda, maximo\n",
    "\n",
    "    def conversion_grados(self, valor, origen, destino):\n",
    "        valor_destino = None\n",
    "        if (origen == 'celsius'):\n",
    "            if (destino == 'celsius'):\n",
    "                valor_destino = valor\n",
    "            elif (destino == 'farenheit'):\n",
    "                valor_destino = (valor * 9 / 5) + 32\n",
    "            elif (destino == 'kelvin'):\n",
    "                valor_destino = valor + 273.15\n",
    "            else:\n",
    "                print('Parámetro de Destino incorrecto')\n",
    "        elif (origen == 'farenheit'):\n",
    "                if (destino == 'celsius'):\n",
    "                    valor_destino = (valor - 32) * 5 / 9\n",
    "                elif (destino == 'farenheit'):\n",
    "                    valor_destino = valor\n",
    "                elif (destino == 'kelvin'):\n",
    "                    valor_destino = ((valor - 32) * 5 / 9) + 273.15\n",
    "                else:\n",
    "                    print('Parámetro de Destino incorrecto')\n",
    "        elif (origen == 'kelvin'):\n",
    "                if (destino == 'celsius'):\n",
    "                    valor_destino = valor - 273.15\n",
    "                elif (destino == 'farenheit'):\n",
    "                    valor_destino = ((valor - 273.15) * 9 / 5) + 32\n",
    "                elif (destino == 'kelvin'):\n",
    "                    valor_destino = valor\n",
    "                else:\n",
    "                    print('Parámetro de Destino incorrecto')\n",
    "        else:\n",
    "            print('Parámetro de Origen incorrecto')\n",
    "        return valor_destino    \n",
    "    \n",
    "    def factorial(self, x):\n",
    "        if (type(x) != int):\n",
    "            return None\n",
    "        elif (x < 0):\n",
    "            return None\n",
    "        elif (x > 1):\n",
    "            x = x * self.factorial(x-1)\n",
    "        return x    \n"
   ]
  },
  {
   "cell_type": "code",
   "execution_count": 27,
   "metadata": {},
   "outputs": [],
   "source": [
    "h = herramientas([1,2,3,4,53,4,5,6,7,1,5])"
   ]
  },
  {
   "cell_type": "code",
   "execution_count": 29,
   "metadata": {},
   "outputs": [
    {
     "ename": "TypeError",
     "evalue": "herramientas.verifica_primo() missing 1 required positional argument: 'nro'",
     "output_type": "error",
     "traceback": [
      "\u001b[1;31m---------------------------------------------------------------------------\u001b[0m",
      "\u001b[1;31mTypeError\u001b[0m                                 Traceback (most recent call last)",
      "Cell \u001b[1;32mIn[29], line 1\u001b[0m\n\u001b[1;32m----> 1\u001b[0m h\u001b[39m.\u001b[39;49mverifica_primo()\n",
      "\u001b[1;31mTypeError\u001b[0m: herramientas.verifica_primo() missing 1 required positional argument: 'nro'"
     ]
    }
   ],
   "source": [
    "h.verifica_primo()"
   ]
  }
 ],
 "metadata": {
  "kernelspec": {
   "display_name": "Python 3",
   "language": "python",
   "name": "python3"
  },
  "language_info": {
   "codemirror_mode": {
    "name": "ipython",
    "version": 3
   },
   "file_extension": ".py",
   "mimetype": "text/x-python",
   "name": "python",
   "nbconvert_exporter": "python",
   "pygments_lexer": "ipython3",
   "version": "3.10.6"
  },
  "orig_nbformat": 4,
  "vscode": {
   "interpreter": {
    "hash": "116b16ce4771ffbe70767d6473d2ec71e30cb9f23544c16e382302f0f8a58d51"
   }
  }
 },
 "nbformat": 4,
 "nbformat_minor": 2
}
