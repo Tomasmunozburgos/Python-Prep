{
 "cells": [
  {
   "attachments": {},
   "cell_type": "markdown",
   "metadata": {},
   "source": [
    "1) Crear una función que reciba un número como parámetro y devuelva si True si es primo y False si no lo es"
   ]
  },
  {
   "cell_type": "code",
   "execution_count": 23,
   "metadata": {},
   "outputs": [
    {
     "data": {
      "text/plain": [
       "False"
      ]
     },
     "execution_count": 23,
     "metadata": {},
     "output_type": "execute_result"
    }
   ],
   "source": [
    "def primos (x):\n",
    "    '''\n",
    "        La función devuelve True si el número ingresado es primo\n",
    "        False si no lo es.\n",
    "        \n",
    "    '''\n",
    "    sigue = True\n",
    "    while (sigue):\n",
    "        if (x == 0 or x == 1):\n",
    "            return True\n",
    "        elif (x == 2):\n",
    "            return False\n",
    "        else:\n",
    "            for i in range (2, x):\n",
    "                if (x%i == 0):\n",
    "                    sigue = False\n",
    "                    return False\n",
    "                if (i == (x-1)):\n",
    "                    sigue = False\n",
    "                    return True\n",
    "\n",
    "    \n",
    "\n",
    "primos(2)\n",
    "              "
   ]
  },
  {
   "attachments": {},
   "cell_type": "markdown",
   "metadata": {},
   "source": [
    "2) Utilizando la función del punto 1, realizar otra función que reciba de parámetro una lista de números y devuelva sólo aquellos que son primos en otra lista"
   ]
  },
  {
   "cell_type": "code",
   "execution_count": 25,
   "metadata": {},
   "outputs": [
    {
     "data": {
      "text/plain": [
       "[1, 3, 5, 7, 11]"
      ]
     },
     "execution_count": 25,
     "metadata": {},
     "output_type": "execute_result"
    }
   ],
   "source": [
    "def lista_primos (lista):\n",
    "    '''\n",
    "        La función hace uso de la función primos\n",
    "        recibe una lista de números y devuelve otra\n",
    "        únicamente con los números primos\n",
    "    '''\n",
    "    listaf = []\n",
    "    for i in lista:\n",
    "        if(primos(i)):\n",
    "            listaf.append(i)\n",
    "\n",
    "    return listaf\n",
    "\n",
    "lista = [1,2,3,4,5,6,7,8,10,11]\n",
    "\n",
    "lista2 = lista_primos(lista)\n",
    "lista2"
   ]
  },
  {
   "attachments": {},
   "cell_type": "markdown",
   "metadata": {},
   "source": [
    "3) Crear una función que al recibir una lista de números, devuelva el que más se repite y cuántas veces lo hace. Si hay más de un \"más repetido\", que devuelva cualquiera"
   ]
  },
  {
   "cell_type": "code",
   "execution_count": 27,
   "metadata": {},
   "outputs": [
    {
     "name": "stdout",
     "output_type": "stream",
     "text": [
      "(3, 3)\n"
     ]
    }
   ],
   "source": [
    "def repetido (lista):\n",
    "    '''\n",
    "        la función devuelve el elemento que más se repite\n",
    "        de la lista que reciba\n",
    "    '''\n",
    "    lista_unicos = []\n",
    "    lista_repeticiones = []\n",
    "    if (len(lista) == 0):\n",
    "        return None\n",
    "    for elemento in lista:\n",
    "        if elemento in lista_unicos:\n",
    "            i = lista_unicos.index(elemento)\n",
    "            lista_repeticiones[i] += 1\n",
    "        else: \n",
    "            lista_unicos.append(elemento)\n",
    "            lista_repeticiones.append(1)\n",
    "    m_repetido = lista_unicos[0]\n",
    "    max = lista_repeticiones[0]\n",
    "    for i, elemento in enumerate(lista_unicos):\n",
    "        if lista_repeticiones[i] > max:\n",
    "            m_repetido = lista_unicos[i]\n",
    "            max = lista_repeticiones[i]\n",
    "    return m_repetido, max\n",
    "\n",
    "lista = [1,2,3,5,5,6,3,1,2,3,5,]\n",
    "print(repetido(lista))"
   ]
  },
  {
   "attachments": {},
   "cell_type": "markdown",
   "metadata": {},
   "source": [
    "4) A la función del punto 3, agregar un parámetro más, que permita elegir si se requiere el menor o el mayor de los mas repetidos."
   ]
  },
  {
   "cell_type": "code",
   "execution_count": 28,
   "metadata": {},
   "outputs": [
    {
     "name": "stdout",
     "output_type": "stream",
     "text": [
      "(5, 3)\n"
     ]
    }
   ],
   "source": [
    "def repetido (lista, mayor = True):\n",
    "    '''\n",
    "        la función devuelve el elemento que más se repite\n",
    "        de la lista que reciba\n",
    "        mayor por defecto es True, busca el número mayor \n",
    "        que más se repite\n",
    "    '''\n",
    "    lista_unicos = []\n",
    "    lista_repeticiones = []\n",
    "    if (len(lista) == 0):\n",
    "        return None\n",
    "    elif (mayor):\n",
    "        lista.sort(reverse = True)\n",
    "    else:\n",
    "        lista.sort()\n",
    "    for elemento in lista:\n",
    "        if elemento in lista_unicos:\n",
    "            i = lista_unicos.index(elemento)\n",
    "            lista_repeticiones[i] += 1\n",
    "        else: \n",
    "            lista_unicos.append(elemento)\n",
    "            lista_repeticiones.append(1)\n",
    "    m_repetido = lista_unicos[0]\n",
    "    max = lista_repeticiones[0]\n",
    "    for i, elemento in enumerate(lista_unicos):\n",
    "        if lista_repeticiones[i] > max:\n",
    "            m_repetido = lista_unicos[i]\n",
    "            max = lista_repeticiones[i]\n",
    "    return m_repetido, max\n",
    "\n",
    "lista = [1,2,3,5,5,6,3,1,2,3,5,]\n",
    "print(repetido(lista))"
   ]
  },
  {
   "attachments": {},
   "cell_type": "markdown",
   "metadata": {},
   "source": [
    "5) Crear una función que convierta entre grados Celsius, Farenheit y Kelvin<br>\n",
    "Fórmula 1\t: (°C × 9/5) + 32 = °F<br>\n",
    "Fórmula 2\t: °C + 273.15 = °K<br>\n",
    "Debe recibir 3 parámetros: el valor, la medida de orígen y la medida de destino\n"
   ]
  },
  {
   "cell_type": "code",
   "execution_count": null,
   "metadata": {},
   "outputs": [],
   "source": [
    "def temperatura (valor, medio, medif):\n",
    "    '''\n",
    "\n",
    "    '''\n",
    "    if (medio == 'F'):\n",
    "        if (medif == 'F'):\n",
    "            return valor\n",
    "        elif (medif == 'C'):\n",
    "            temperatura = (valor - 32) * 5/9\n",
    "            return temperatura\n",
    "        elif (medif == 'K'):\n",
    "            temperatura = (valor - 32) * 5/9 + 273\n",
    "            return temperatura\n",
    "    if (medio == 'C'):\n",
    "        if (medif == 'C'):\n",
    "            return valor\n",
    "        elif (medif == 'F'):\n",
    "            "
   ]
  },
  {
   "attachments": {},
   "cell_type": "markdown",
   "metadata": {},
   "source": [
    "7) Armar una función que devuelva el factorial de un número. Tener en cuenta que el usuario puede equivocarse y enviar de parámetro un número no entero o negativo"
   ]
  },
  {
   "cell_type": "code",
   "execution_count": 4,
   "metadata": {},
   "outputs": [
    {
     "name": "stdout",
     "output_type": "stream",
     "text": [
      "2\n"
     ]
    }
   ],
   "source": [
    "def factorial (x):\n",
    "    '''\n",
    "        devuelve el factorial del numero ingresado\n",
    "    '''\n",
    "    if(type(x) != int):\n",
    "        return None\n",
    "    if(x < 0):\n",
    "        return None\n",
    "    if (x > 1):\n",
    "        x = x * factorial(x - 1)\n",
    "    return x\n",
    "\n",
    "    \n",
    "print(factorial(2))"
   ]
  }
 ],
 "metadata": {
  "kernelspec": {
   "display_name": "Python 3",
   "language": "python",
   "name": "python3"
  },
  "language_info": {
   "codemirror_mode": {
    "name": "ipython",
    "version": 3
   },
   "file_extension": ".py",
   "mimetype": "text/x-python",
   "name": "python",
   "nbconvert_exporter": "python",
   "pygments_lexer": "ipython3",
   "version": "3.10.6"
  },
  "orig_nbformat": 4,
  "vscode": {
   "interpreter": {
    "hash": "116b16ce4771ffbe70767d6473d2ec71e30cb9f23544c16e382302f0f8a58d51"
   }
  }
 },
 "nbformat": 4,
 "nbformat_minor": 2
}
